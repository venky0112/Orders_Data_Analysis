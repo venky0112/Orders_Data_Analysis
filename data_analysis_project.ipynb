{
 "cells": [
  {
   "cell_type": "code",
   "execution_count": null,
   "id": "1ebaa37d",
   "metadata": {},
   "outputs": [],
   "source": [
    "#read data from the file and handle null values\n",
    "import pandas as pd\n",
    "df = pd.read_csv('orders.csv',na_values=['Not Available','unknown'])\n",
    "df['Ship Mode'].unique()"
   ]
  },
  {
   "cell_type": "code",
   "execution_count": null,
   "id": "ad820367",
   "metadata": {},
   "outputs": [],
   "source": [
    "#rename columns names ..make them lower case and replace space with underscore\n",
    "df.rename(columns={'Order Id':'order_id', 'City':'city'})\n",
    "df.columns=df.columns.str.lower()\n",
    "df.columns=df.columns.str.replace(' ','_')\n",
    "df.head(5)\n"
   ]
  },
  {
   "cell_type": "code",
   "execution_count": null,
   "id": "e81f9eec",
   "metadata": {},
   "outputs": [],
   "source": [
    "# In[159]:\n",
    "\n",
    "#derive new columns discount , sale price and profit\n",
    "df['discount']=df['list_price']*df['discount_percent']*.01\n",
    "df['sale_price']= df['list_price']-df['discount']\n",
    "df['profit']=df['sale_price']-df['cost_price']\n",
    "df\n"
   ]
  },
  {
   "cell_type": "code",
   "execution_count": null,
   "id": "757e5514",
   "metadata": {},
   "outputs": [],
   "source": [
    "# In[162]:\n",
    "\n",
    "#convert order date from object data type to datetime\n",
    "df['order_date']=pd.to_datetime(df['order_date'],format=\"%Y-%m-%d\")\n"
   ]
  },
  {
   "cell_type": "code",
   "execution_count": null,
   "id": "cb307c99",
   "metadata": {},
   "outputs": [],
   "source": [
    "# In[167]:\n",
    "\n",
    "#drop cost price list price and discount percent columns\n",
    "df.drop(columns=['list_price','cost_price','discount_percent'],inplace=True)\n"
   ]
  },
  {
   "cell_type": "code",
   "execution_count": null,
   "id": "208a9ad4",
   "metadata": {},
   "outputs": [],
   "source": [
    "# In[169]:\n",
    "\n",
    "#load the data into sql server using replace option\n",
    "import sqlalchemy as sal\n",
    "engine = sal.create_engine('mssql://ANKIT\\SQLEXPRESS/master?driver=ODBC+DRIVER+17+FOR+SQL+SERVER')\n",
    "conn=engine.connect()\n"
   ]
  },
  {
   "cell_type": "code",
   "execution_count": null,
   "id": "1d7d00f3",
   "metadata": {},
   "outputs": [],
   "source": [
    "# In[172]:\n",
    "\n",
    "#load the data into sql server using append option\n",
    "df.to_sql('df_orders', con=conn , index=False, if_exists = 'append')\n"
   ]
  }
 ],
 "metadata": {
  "kernelspec": {
   "display_name": "Python 3",
   "language": "python",
   "name": "python3"
  },
  "language_info": {
   "name": "python",
   "version": "3.13.1"
  }
 },
 "nbformat": 4,
 "nbformat_minor": 5
}
